{
 "cells": [
  {
   "cell_type": "code",
   "execution_count": null,
   "id": "901ac08c",
   "metadata": {},
   "outputs": [],
   "source": [
    "protagonista= input ('nome da personagem principal')\n",
    "salvador= input ('nome de colega de escola primária')\n",
    "crime= input('pensa num crime')\n",
    "ambiente= input('local ideal para férias')\n",
    "local= input('destino de sonho')\n",
    "print (protagonista +' é a personagem principal de umas férias que serão para esquecer. Pensava que era incapaz de ' + crime + ' mas a verdade é que teve de ir viver para um esconderijo. '+ salvador+ ' enviou uma mensagem para ver se estava tudo bem porque fazia anos que já não falavam e tudo mudou. Apaixonaram-se e foram viver para '+ local)"
   ]
  }
 ],
 "metadata": {
  "kernelspec": {
   "display_name": "Python 3 (ipykernel)",
   "language": "python",
   "name": "python3"
  },
  "language_info": {
   "codemirror_mode": {
    "name": "ipython",
    "version": 3
   },
   "file_extension": ".py",
   "mimetype": "text/x-python",
   "name": "python",
   "nbconvert_exporter": "python",
   "pygments_lexer": "ipython3",
   "version": "3.9.7"
  }
 },
 "nbformat": 4,
 "nbformat_minor": 5
}
